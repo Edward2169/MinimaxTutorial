{
 "cells": [
  {
   "cell_type": "code",
   "execution_count": 3,
   "id": "0dc85e6c-b8b0-46d4-924f-c1c263e1fa31",
   "metadata": {},
   "outputs": [
    {
     "name": "stdout",
     "output_type": "stream",
     "text": [
      "The optimal value is : 5\n"
     ]
    }
   ],
   "source": [
    "# Minimax function, assumes a complete, even tree for simplicity\n",
    "def minimax (currentDepth, nodeIndex, maxTurn, leaf_nodes, targetDepth):\n",
    "    # If the function is currently at the depth limit, return the value\n",
    "    if (currentDepth == targetDepth): \n",
    "        return leaf_nodes[nodeIndex]\n",
    "    # If it is max's turn, do minimax from max's perspective\n",
    "    if (maxTurn):\n",
    "        return max(minimax(currentDepth + 1, nodeIndex * 2, False, leaf_nodes, targetDepth), \n",
    "                   minimax(currentDepth + 1, nodeIndex * 2 + 1, False, leaf_nodes, targetDepth))\n",
    "    # If it is min's turn, do minimax from min's perspective\n",
    "    else:\n",
    "        return min(minimax(currentDepth + 1, nodeIndex * 2, True, leaf_nodes, targetDepth), \n",
    "                   minimax(currentDepth + 1, nodeIndex * 2 + 1, True, leaf_nodes, targetDepth))\n",
    "\n",
    "# Leaf nodes of game tree\n",
    "leaf_nodes = [3, 5, 6, 9, 1, 2, 0, -1]\n",
    "# Using the tree's depth as our depth limit\n",
    "treeDepth = 3\n",
    "# First instance of the function starts at the root node\n",
    "print(\"The optimal value is : \" + str(minimax(0, 0, True, leaf_nodes, treeDepth)))"
   ]
  },
  {
   "cell_type": "code",
   "execution_count": 7,
   "id": "83c58b63-5240-47f4-a802-e075b9b9c9ca",
   "metadata": {},
   "outputs": [
    {
     "name": "stdout",
     "output_type": "stream",
     "text": [
      "The optimal value is : 5\n"
     ]
    }
   ],
   "source": [
    "Alpha = float('-inf')\n",
    "Beta = float('inf')\n",
    "# Returns optimal value for current player \n",
    "#(Initially called for root and maximizer) \n",
    "def ABminimax(currentDepth, nodeIndex, maxTurn, leaf_nodes, alpha, beta, targetDepth): \n",
    "    # If the function is currently at the depth limit, return the value \n",
    "    if currentDepth == targetDepth: \n",
    "        return leaf_nodes[nodeIndex] \n",
    "    # If it is max's turn, do ABminimax from max's perspective\n",
    "    if maxTurn: \n",
    "        best = Alpha\n",
    "        # Recur for left and right children \n",
    "        for i in range(2): \n",
    "            val = ABminimax(currentDepth + 1, nodeIndex * 2 + i, False, leaf_nodes, alpha, beta, targetDepth) \n",
    "            best = max(best, val) \n",
    "            alpha = max(alpha, best) \n",
    "            # Alpha Beta Pruning \n",
    "            if beta <= alpha: \n",
    "                break\n",
    "        return best \n",
    "    # If it is min's turn, do ABminimax from min's perspective\n",
    "    else:\n",
    "        best = Beta\n",
    "        # Recur for left and right children \n",
    "        for i in range(2): \n",
    "            val = ABminimax(currentDepth + 1, nodeIndex * 2 + i, True, leaf_nodes, alpha, beta, targetDepth) \n",
    "            best = min(best, val) \n",
    "            beta = min(beta, best) \n",
    "            # Alpha Beta Pruning \n",
    "            if beta <= alpha: \n",
    "                break\n",
    "        return best \n",
    "      \n",
    "# Leaf nodes of game tree\n",
    "leaf_nodes = [3, 5, 6, 9, 1, 2, 0, -1]\n",
    "# Using the tree's depth as our depth limit\n",
    "treeDepth = 3\n",
    "# First instance of the function starts at the root node\n",
    "print(\"The optimal value is : \" + str(ABminimax(0, 0, True, leaf_nodes, Alpha, Beta, treeDepth)))"
   ]
  },
  {
   "cell_type": "code",
   "execution_count": null,
   "id": "eefa80e3-63b2-4e31-921a-f83e2bd39075",
   "metadata": {},
   "outputs": [],
   "source": []
  }
 ],
 "metadata": {
  "kernelspec": {
   "display_name": "Python 3 (ipykernel)",
   "language": "python",
   "name": "python3"
  },
  "language_info": {
   "codemirror_mode": {
    "name": "ipython",
    "version": 3
   },
   "file_extension": ".py",
   "mimetype": "text/x-python",
   "name": "python",
   "nbconvert_exporter": "python",
   "pygments_lexer": "ipython3",
   "version": "3.12.4"
  }
 },
 "nbformat": 4,
 "nbformat_minor": 5
}
